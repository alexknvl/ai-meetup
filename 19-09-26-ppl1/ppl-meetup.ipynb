{
 "cells": [
  {
   "cell_type": "code",
   "execution_count": 32,
   "metadata": {
    "slideshow": {
     "slide_type": "skip"
    }
   },
   "outputs": [],
   "source": [
    "%matplotlib inline\n",
    "from ipywidgets import interact, interactive, fixed, interact_manual\n",
    "import ipywidgets as widgets\n",
    "import numpy as np\n",
    "import matplotlib.pyplot as plt\n",
    "from collections import namedtuple\n",
    "plt.style.use('seaborn-darkgrid')"
   ]
  },
  {
   "cell_type": "markdown",
   "metadata": {
    "slideshow": {
     "slide_type": "slide"
    }
   },
   "source": [
    "## What is probabilistic programming?\n",
    "\n",
    "> Programs and languages as formal representations of probabilistic objects.\n",
    "\n",
    "> probabilistic programs are usual functional or imperative programs with two added constructs: the ability\n",
    "to draw values at random from distributions, and the ability to condition values of variables in a program via observations.\n",
    "\n",
    "> Probabilistic Programming allows for automatic Bayesian inference on user-defined probabilistic models."
   ]
  },
  {
   "cell_type": "markdown",
   "metadata": {
    "slideshow": {
     "slide_type": "subslide"
    }
   },
   "source": [
    "## What is probabilistic programming?\n",
    "\n",
    "$\\mu \\sim \\mathcal{N}(0, 1)$\n",
    "\n",
    "$\\sigma \\sim \\mathcal{U}(0, 1)$\n",
    "\n",
    "$x_i \\sim \\mathcal{N}(\\mu, \\sigma)$\n",
    "\n",
    "$\\text{We observe } X = \\{x_1, x_2, \\ldots\\}$\n",
    "\n",
    "$\\text{What is }P(\\mu | X)\\text{?}$\n",
    "\n",
    "---\n",
    "\n",
    "Compare it with \"standard\" machine learning, where we want to find\n",
    "\n",
    "\n",
    "$\\text{What is }argmax_\\mu P(\\mu | X)\\text{?}$"
   ]
  },
  {
   "cell_type": "markdown",
   "metadata": {
    "slideshow": {
     "slide_type": "subslide"
    }
   },
   "source": [
    "## Probabilistic Programming Languages\n",
    "\n",
    "* OpenBUGS -> WinBUGS -> JAGS, Stan, PyMC3, Pyro\n",
    "* BayesDB\n",
    "* ProbLog\n",
    "* Anglican, Venture, Church, WebPPL, Hakaru (?)"
   ]
  },
  {
   "cell_type": "markdown",
   "metadata": {
    "slideshow": {
     "slide_type": "slide"
    }
   },
   "source": [
    "# The math\n",
    "\n",
    "$$p(\\Theta | D) = \\frac{p(D|\\Theta)p(\\Theta)}{p(D)}$$\n",
    "\n",
    "* REALLY hard to compute $p(D)$ in general!\n",
    "  * Marginalization, $p(D) = \\int_{\\Theta} p(D|\\Theta)p(\\Theta) d\\Theta$ is rarely analytically tractable, and numerically hard in multidimensional cases.\n",
    "* Easy to compute $f(\\Theta) = p(D|\\Theta)p(\\Theta)$, which allows gradient descent family of algorithms. Hence the popularity of MLE methods.\n",
    "\n",
    "But what if we really want the posterior?"
   ]
  },
  {
   "cell_type": "markdown",
   "metadata": {
    "slideshow": {
     "slide_type": "subslide"
    }
   },
   "source": [
    "# Metropolis-Hastings\n",
    "\n",
    "$$f(\\theta_1, \\theta_2) = \\frac{p(\\theta_1 | D)}{p(\\theta_2 | D)} = \\frac{p(D|\\theta_1)p(\\theta_1)}{p(D|\\theta_2)p(\\theta_2)}$$\n",
    "$$\\theta_1 \\succ \\theta_2 \\iff f(\\theta_1, \\theta_2) > 1$$\n",
    "\n",
    "---\n",
    "\n",
    "1. Start with some $\\theta$.\n",
    "2. Choose some $\\theta' = \\theta \\pm \\varepsilon$.\n",
    "3. If $\\theta' \\succ \\theta$, set $\\theta = \\theta'$.\n",
    "4. If $\\theta' \\not\\succ \\theta$, set $\\theta = \\theta'$ with probability $f(\\theta', \\theta)$.\n",
    "5. Rinse and repeat."
   ]
  },
  {
   "cell_type": "code",
   "execution_count": 33,
   "metadata": {
    "slideshow": {
     "slide_type": "slide"
    }
   },
   "outputs": [
    {
     "data": {
      "application/vnd.jupyter.widget-view+json": {
       "model_id": "fe5996bbd0304d87a6074111a45404e6",
       "version_major": 2,
       "version_minor": 0
      },
      "text/plain": [
       "interactive(children=(IntSlider(value=10001, description='n', max=20001, min=1, step=500), Output()), _dom_cla…"
      ]
     },
     "metadata": {},
     "output_type": "display_data"
    }
   ],
   "source": [
    "def sample_circle(n):\n",
    "    RNG = np.random.RandomState(42)\n",
    "    points = RNG.uniform(size=(n,2))\n",
    "    flag = (points[:,0]**2 + points[:,1]**2) <= 1\n",
    "    ratio = flag.mean() * 4\n",
    "    plt.figure(figsize=(4,4))\n",
    "    plt.xlim([0, 1])\n",
    "    plt.ylim([0, 1])\n",
    "    plt.scatter(points[flag,0],points[flag,1], marker='+')\n",
    "    plt.scatter(points[np.logical_not(flag),0],\n",
    "                points[np.logical_not(flag),1], marker='+')\n",
    "    plt.show()\n",
    "    print(ratio)\n",
    "\n",
    "interact(sample_circle, n=(1, 20001, 500));"
   ]
  },
  {
   "cell_type": "code",
   "execution_count": 34,
   "metadata": {
    "slideshow": {
     "slide_type": "slide"
    }
   },
   "outputs": [],
   "source": [
    "def sample_circle(n):\n",
    "    RNG = np.random.RandomState(42)\n",
    "    def f(x, y):\n",
    "        if x ** 2 + y ** 2 < 1:\n",
    "            return 1\n",
    "        else:\n",
    "            return 0\n",
    "    points = np.zeros(shape=(n,2))\n",
    "    x0 = (0.9, 0.9)\n",
    "    for i in range(n):\n",
    "        points[i] = x0\n",
    "        while True:\n",
    "            (x, y) = x0\n",
    "            x = (x + RNG.normal() * 0.2) % 1\n",
    "            y = (y + RNG.normal() * 0.2) % 1\n",
    "            # Jump only if the next point is \"good\".\n",
    "            if f(x, y) > 0:\n",
    "                x0 = (x, y)\n",
    "                break\n",
    "\n",
    "    plt.figure(figsize=(4,4))\n",
    "    plt.xlim([0, 1])\n",
    "    plt.ylim([0, 1])\n",
    "    plt.plot(points[:,0],points[:,1], marker='+', alpha=0.8)\n",
    "    plt.show()"
   ]
  },
  {
   "cell_type": "code",
   "execution_count": 35,
   "metadata": {
    "slideshow": {
     "slide_type": "subslide"
    }
   },
   "outputs": [
    {
     "data": {
      "application/vnd.jupyter.widget-view+json": {
       "model_id": "7f02f6ea133c4d87a9cee21b37046457",
       "version_major": 2,
       "version_minor": 0
      },
      "text/plain": [
       "interactive(children=(IntSlider(value=500, description='n', max=1000, step=50), Output()), _dom_classes=('widg…"
      ]
     },
     "metadata": {},
     "output_type": "display_data"
    }
   ],
   "source": [
    "interact(sample_circle, n=(0, 1000, 50));"
   ]
  },
  {
   "cell_type": "code",
   "execution_count": 36,
   "metadata": {
    "slideshow": {
     "slide_type": "slide"
    }
   },
   "outputs": [],
   "source": [
    "def sample_normal(n):\n",
    "    RNG = np.random.RandomState(42)\n",
    "    # Non-normalized N(0, 1)\n",
    "    def f(x): return np.exp(-x ** 2 / 2)\n",
    "    \n",
    "    points = np.zeros(shape=n)\n",
    "    x0 = 2.0   # Starting point\n",
    "    p0 = f(x0) # \"Probability\"\n",
    "    for i in range(n):\n",
    "        points[i] = x0\n",
    "        while True:\n",
    "            x1 = x0 + (2 * RNG.uniform() - 1) * 1\n",
    "            p1 = f(x1)\n",
    "            r = p1 / p0 # Probability ratio\n",
    "            if r > 1 or RNG.uniform() < r:\n",
    "                x0 = x1\n",
    "                p0 = p1\n",
    "                break\n",
    "\n",
    "    plt.figure(figsize=(4,4))\n",
    "    lx = np.linspace(-3, 3, 1000)\n",
    "    ly = 1.0/np.sqrt(2 * np.pi * 1) * f(lx)\n",
    "    plt.plot(lx, ly)\n",
    "    plt.hist(points, bins=100, density=True)\n",
    "    plt.show()"
   ]
  },
  {
   "cell_type": "code",
   "execution_count": 37,
   "metadata": {
    "slideshow": {
     "slide_type": "subslide"
    }
   },
   "outputs": [
    {
     "data": {
      "application/vnd.jupyter.widget-view+json": {
       "model_id": "2e180a5d18af47279c058ba3054bc2d4",
       "version_major": 2,
       "version_minor": 0
      },
      "text/plain": [
       "interactive(children=(IntSlider(value=10000, description='n', max=20000, step=500), Output()), _dom_classes=('…"
      ]
     },
     "metadata": {},
     "output_type": "display_data"
    }
   ],
   "source": [
    "interact(sample_normal, n=(0, 20000, 500));"
   ]
  },
  {
   "cell_type": "code",
   "execution_count": 55,
   "metadata": {
    "slideshow": {
     "slide_type": "slide"
    }
   },
   "outputs": [],
   "source": [
    "def sample_normal(n, obs):\n",
    "    RNG = np.random.RandomState(42)\n",
    "    \n",
    "    observed = RNG.normal(size=obs) * 1 + 2\n",
    "    print(observed)\n",
    "    \n",
    "    def f(mu): return np.exp(-mu ** 2 / (2 * 4**2)) * np.product(np.exp(-(mu - observed) ** 2 / 2))\n",
    "    \n",
    "    points = np.zeros(shape=n)\n",
    "    x0 = 2.0\n",
    "    p0 = f(x0)\n",
    "    for i in range(n):\n",
    "        points[i] = x0\n",
    "        while True:\n",
    "            x1 = x0 + (2 * RNG.uniform() - 1) * 1\n",
    "            p1 = f(x1)\n",
    "            r = p1 / p0\n",
    "            if r > 1 or RNG.uniform() < r:\n",
    "                x0 = x1\n",
    "                p0 = p1\n",
    "                break\n",
    "\n",
    "    plt.figure(figsize=(4,4))\n",
    "    lx = np.linspace(-3, 3, 1000)\n",
    "    ly = np.array([f(x) * n for x in lx])\n",
    "    # plt.plot(lx, ly)\n",
    "    plt.hist(points, bins=100)\n",
    "    plt.show()"
   ]
  },
  {
   "cell_type": "code",
   "execution_count": 58,
   "metadata": {
    "scrolled": false,
    "slideshow": {
     "slide_type": "subslide"
    }
   },
   "outputs": [
    {
     "data": {
      "application/vnd.jupyter.widget-view+json": {
       "model_id": "5c8b83e1002b4958b03d9a3107961392",
       "version_major": 2,
       "version_minor": 0
      },
      "text/plain": [
       "interactive(children=(IntSlider(value=100000, description='n', max=200000, step=50000), IntSlider(value=15, de…"
      ]
     },
     "metadata": {},
     "output_type": "display_data"
    }
   ],
   "source": [
    "interact(sample_normal, n=(0, 200000, 50000),obs=(0,30,1));"
   ]
  },
  {
   "cell_type": "markdown",
   "metadata": {},
   "source": [
    "$\\mu \\sim N(0, 1)$\n",
    "\n",
    "$\\sigma \\sim |N(0, 1)|$\n",
    "\n",
    "$x \\sim N(\\mu, \\sigma)$\n",
    "\n",
    "$\\{x_1, x_2, \\ldots\\}$"
   ]
  },
  {
   "cell_type": "code",
   "execution_count": 40,
   "metadata": {
    "slideshow": {
     "slide_type": "slide"
    }
   },
   "outputs": [],
   "source": [
    "# Probabilistic Language Primitives\n",
    "Sample  = namedtuple('Sample', 'distribution')\n",
    "Observe = namedtuple('Observe', 'distribution value')\n",
    "\n",
    "# Distributions\n",
    "Uniform    = namedtuple('Uniform', 'min max')\n",
    "Normal     = namedtuple('Normal', 'mu sigma')\n",
    "HalfNormal = namedtuple('HalfNormal', 'sigma')\n",
    "        \n",
    "# Sample program.\n",
    "def program(data):\n",
    "    mu    = yield Sample(Normal(0, 1))\n",
    "    sigma = yield Sample(HalfNormal(1))\n",
    "    x = Normal(mu, sigma)\n",
    "    for d in data:\n",
    "        yield Observe(x, d)\n",
    "    return mu, sigma"
   ]
  },
  {
   "cell_type": "code",
   "execution_count": 41,
   "metadata": {
    "slideshow": {
     "slide_type": "subslide"
    }
   },
   "outputs": [],
   "source": [
    "# Sample single point from a distribution.\n",
    "def distribution_sample(dist, rng):\n",
    "    if isinstance(dist, Uniform):      return rng.uniform() * (dist.max - dist.min) + dist.min\n",
    "    elif isinstance(dist, Normal):     return rng.normal() * dist.sigma + dist.mu\n",
    "    elif isinstance(dist, HalfNormal): return np.abs(rng.normal() * dist.sigma)\n",
    "    else: assert False\n",
    "\n",
    "# Calculate log PDF of a distribution at a given point.\n",
    "def distribution_logp(d, value):\n",
    "    if isinstance(d, Uniform):\n",
    "        if d.min <= value <= d.max: return -np.log(d.max - d.min)\n",
    "        else: return -np.inf\n",
    "    elif isinstance(d, Normal):\n",
    "        return -0.5 * np.log(2 * np.pi * d.sigma**2) - (value - d.mu)**2 / (2 * d.sigma ** 2)\n",
    "    elif isinstance(d, HalfNormal):\n",
    "        if value >= 0:\n",
    "            return -0.5 * np.log(np.pi / 2 * d.sigma**2) - value**2 / (2 * d.sigma ** 2)\n",
    "        else:\n",
    "            return -np.inf\n",
    "    else: assert False"
   ]
  },
  {
   "cell_type": "code",
   "execution_count": 42,
   "metadata": {
    "slideshow": {
     "slide_type": "subslide"
    }
   },
   "outputs": [],
   "source": [
    "# Run a probabilistic program.\n",
    "def prob_run(program, params=None, rng=None):\n",
    "    rng = rng if rng is not None else np.random.RandomState(42)\n",
    "    \n",
    "    params = params if params is not None else []\n",
    "    log_p = 0\n",
    "    index = 0\n",
    "    \n",
    "    # The main loop.\n",
    "    result = None\n",
    "    action = None\n",
    "    while True:\n",
    "        try:\n",
    "            if action is None:\n",
    "                action = program.__next__()\n",
    "            \n",
    "            action, index, lp = run_action(program, action, params, index, rng)\n",
    "            log_p += lp\n",
    "            \n",
    "        except StopIteration as ex:\n",
    "            result = ex.value\n",
    "            break\n",
    "                    \n",
    "    return result, params, log_p"
   ]
  },
  {
   "cell_type": "code",
   "execution_count": 43,
   "metadata": {},
   "outputs": [],
   "source": [
    "def run_action(program, action, params, index, rng):\n",
    "    log_p = 0\n",
    "    if isinstance(action, Sample):\n",
    "        if index < len(params):\n",
    "            # If we are sampling and we already have a parameter value \n",
    "            # for the current trace point.\n",
    "            r = params[index]\n",
    "            lp = distribution_logp(action.distribution, r)\n",
    "            action = program.send(r)\n",
    "            # log P(θ)\n",
    "            log_p += lp\n",
    "\n",
    "            index += 1\n",
    "        else:\n",
    "            # Sample a new parameter value.\n",
    "            r = distribution_sample(action.distribution, rng)\n",
    "            lp = distribution_logp(action.distribution, r)\n",
    "            action = program.send(r)\n",
    "            # log P(θ)\n",
    "            log_p += lp\n",
    "\n",
    "            params.append(r)\n",
    "            index += 1\n",
    "    elif isinstance(action, Observe):\n",
    "        # Observing log P(x | θ)\n",
    "        log_p += distribution_logp(action.distribution, action.value)\n",
    "        action = None\n",
    "    else:\n",
    "        assert False\n",
    "    return action, index, log_p"
   ]
  },
  {
   "cell_type": "code",
   "execution_count": 59,
   "metadata": {},
   "outputs": [
    {
     "data": {
      "application/vnd.jupyter.widget-view+json": {
       "model_id": "29254c6ca7a4439db91840ece729c921",
       "version_major": 2,
       "version_minor": 0
      },
      "text/plain": [
       "interactive(children=(IntSlider(value=2500, description='n', max=5000, step=500), IntSlider(value=30, descript…"
      ]
     },
     "metadata": {},
     "output_type": "display_data"
    }
   ],
   "source": [
    "def sample_normal(n, obs):\n",
    "    RNG = np.random.RandomState(42)\n",
    "    \n",
    "    # Simulate N(x | mu = 2, sigma = 1)\n",
    "    observed = RNG.normal(size=obs) * 1 + 2\n",
    "    \n",
    "    # Since generators are side-effecting, \n",
    "    # we put it in a lambda expression.\n",
    "    prog = lambda: program(observed)\n",
    "    \n",
    "    points = []\n",
    "    results = []\n",
    "    r0, x0, p0 = prob_run(prog(), rng=RNG)\n",
    "    \n",
    "    for i in range(n):\n",
    "        points.append(x0)\n",
    "        results.append(r0)\n",
    "        \n",
    "        while True:\n",
    "            x1 = [x + RNG.normal() * 0.5 for x in x0]\n",
    "            r1, _, p1 = prob_run(prog(), x1, rng=RNG)\n",
    "            \n",
    "            r = p1 - p0\n",
    "            if r > 0 or np.log(RNG.uniform()) < r:\n",
    "                x0 = x1\n",
    "                r0 = r1\n",
    "                p0 = p1\n",
    "                break\n",
    "\n",
    "    results = np.array(results)\n",
    "    #print(results[:10])\n",
    "                \n",
    "    plt.figure(figsize=(4,4))\n",
    "    plt.xlim([0, 3])\n",
    "    plt.hist(results[:, 0], bins=100)\n",
    "    plt.show()\n",
    "    \n",
    "    plt.figure(figsize=(4,4))\n",
    "    plt.xlim([0, 3])\n",
    "    plt.hist(results[:, 1], bins=100)\n",
    "    plt.show()\n",
    "\n",
    "interact(sample_normal, n=(0, 5000, 500),obs=(0,60,1));"
   ]
  },
  {
   "cell_type": "code",
   "execution_count": null,
   "metadata": {},
   "outputs": [],
   "source": []
  }
 ],
 "metadata": {
  "celltoolbar": "Slideshow",
  "kernelspec": {
   "display_name": "Python 3",
   "language": "python",
   "name": "python3"
  },
  "language_info": {
   "codemirror_mode": {
    "name": "ipython",
    "version": 3
   },
   "file_extension": ".py",
   "mimetype": "text/x-python",
   "name": "python",
   "nbconvert_exporter": "python",
   "pygments_lexer": "ipython3",
   "version": "3.7.4"
  }
 },
 "nbformat": 4,
 "nbformat_minor": 2
}
