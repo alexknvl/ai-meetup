{
 "cells": [
  {
   "cell_type": "code",
   "execution_count": 102,
   "metadata": {},
   "outputs": [],
   "source": [
    "# pip3 install gensim nltk numpy scipy matplotlib\n",
    "# https://nlp.stanford.edu/projects/glove/\n",
    "# https://cs.stanford.edu/people/jure/pubs/node2vec-kdd16.pdf\n",
    "\n",
    "import gensim\n",
    "import nltk\n",
    "import json\n",
    "import gzip\n",
    "import numpy as np\n",
    "import itertools\n",
    "from vocab import Vocabulary\n",
    "import matplotlib.pyplot as plt"
   ]
  },
  {
   "cell_type": "code",
   "execution_count": 93,
   "metadata": {},
   "outputs": [],
   "source": [
    "# Read GLOVE vectors.\n",
    "glove_vectors = np.zeros((400000, 50))\n",
    "glove_vocabulary = Vocabulary()\n",
    "with open('club-classifier/glove.6B.50d.txt') as f:\n",
    "    for i, line in enumerate(f):\n",
    "        args = line.split()\n",
    "        word = args[0]\n",
    "        glove_vectors[i] = [float(x) for x in args[1:]]\n",
    "        i1 = glove_vocabulary.update(word)\n",
    "        assert i1 == i"
   ]
  },
  {
   "cell_type": "code",
   "execution_count": 117,
   "metadata": {},
   "outputs": [
    {
     "name": "stdout",
     "output_type": "stream",
     "text": [
      "0.8609581258578941\n",
      "0.36743387143887596\n"
     ]
    }
   ],
   "source": [
    "def v(w):\n",
    "    return glove_vectors[glove_vocabulary.get(w)]\n",
    "\n",
    "def d(v1, v2):\n",
    "    return np.sum(v1 * v2) / np.linalg.norm(v1) / np.linalg.norm(v2)\n",
    "\n",
    "print(d(v('king') - v('man') + v('woman'),  v('queen')))\n",
    "print(d(v('king') - v('man') + v('woman'),  v('')))"
   ]
  },
  {
   "cell_type": "code",
   "execution_count": 120,
   "metadata": {},
   "outputs": [
    {
     "data": {
      "text/plain": [
       "{'id': 3,\n",
       " 'name': '1girl',\n",
       " 'mission': 'To provide girls everywhere the opportunity to develop the skills and confidence they need to lead fulfilling lives and become successful leaders.',\n",
       " 'timePlace': 'Wednesdays at 7:30pm; Neil Avenue; Columbus, OH 43210;',\n",
       " 'membershipType': 'Open Membership',\n",
       " 'membershipContact': 'ohiostate1girl@gmail.com',\n",
       " 'membershipTime': 'Beginning of each Semester',\n",
       " 'howToApply': 'Email to inquire about membership',\n",
       " 'chargesDues': False,\n",
       " 'created_at': '2018-03-04T05:51:30.457Z',\n",
       " 'updated_at': '2018-03-04T05:51:30.457Z'}"
      ]
     },
     "execution_count": 120,
     "metadata": {},
     "output_type": "execute_result"
    }
   ],
   "source": [
    "json.load(open('club-classifier/clubs.json'))[2]"
   ]
  },
  {
   "cell_type": "code",
   "execution_count": 111,
   "metadata": {},
   "outputs": [
    {
     "name": "stdout",
     "output_type": "stream",
     "text": [
      "10\n"
     ]
    },
    {
     "data": {
      "image/png": "[encoded data removed]",
      "text/plain": [
       "<Figure size 432x288 with 1 Axes>"
      ]
     },
     "metadata": {
      "needs_background": "light"
     },
     "output_type": "display_data"
    },
    {
     "name": "stdout",
     "output_type": "stream",
     "text": [
      "50\n"
     ]
    },
    {
     "data": {
      "image/png": "[encoded data removed]",
      "text/plain": [
       "<Figure size 432x288 with 1 Axes>"
      ]
     },
     "metadata": {
      "needs_background": "light"
     },
     "output_type": "display_data"
    },
    {
     "name": "stdout",
     "output_type": "stream",
     "text": [
      "100\n"
     ]
    },
    {
     "data": {
      "image/png": "[encoded data removed]",
      "text/plain": [
       "<Figure size 432x288 with 1 Axes>"
      ]
     },
     "metadata": {
      "needs_background": "light"
     },
     "output_type": "display_data"
    },
    {
     "name": "stdout",
     "output_type": "stream",
     "text": [
      "200\n"
     ]
    },
    {
     "data": {
      "image/png": "[encoded data removed]",
      "text/plain": [
       "<Figure size 432x288 with 1 Axes>"
      ]
     },
     "metadata": {
      "needs_background": "light"
     },
     "output_type": "display_data"
    }
   ],
   "source": [
    "for D in [10, 50, 100, 200]:\n",
    "    distances = []\n",
    "    for _ in range(5000):\n",
    "        x = np.random.uniform(size=D)\n",
    "        y = np.random.uniform(size=D)\n",
    "        d = np.sqrt(np.sum((x - y) ** 2))\n",
    "        distances.append(d)\n",
    "    print(D)\n",
    "    plt.hist(distances, density=True, bins=100)\n",
    "    plt.scatter([np.sqrt(D)/np.sqrt(6)], [0], color='red')\n",
    "    plt.show();"
   ]
  },
  {
   "cell_type": "code",
   "execution_count": 17,
   "metadata": {},
   "outputs": [],
   "source": [
    "KEYS = []\n",
    "ENTITIES = []\n",
    "INFOBOXES = []\n",
    "\n",
    "with gzip.open('./whad-data/keys.json.gz') as fin:\n",
    "    for i, line in enumerate(fin):\n",
    "        line = json.loads(line)\n",
    "        assert line['id'] == i\n",
    "        KEYS.append(line)\n",
    "        \n",
    "with gzip.open('./whad-data/entities.json.gz') as fin:\n",
    "    for i, line in enumerate(fin):\n",
    "        line = json.loads(line)\n",
    "        assert line['id'] == i\n",
    "        ENTITIES.append(line)\n",
    "        \n",
    "with gzip.open('./whad-data/infoboxes.json.gz') as fin:\n",
    "    for i, line in enumerate(fin):\n",
    "        line = json.loads(line)\n",
    "        assert line['id'] == i\n",
    "        INFOBOXES.append(line)"
   ]
  },
  {
   "cell_type": "code",
   "execution_count": 18,
   "metadata": {},
   "outputs": [],
   "source": [
    "EDGES = []\n",
    "INCOMING = {}\n",
    "OUTGOING = {}\n",
    "        \n",
    "with gzip.open('./whad-data/edges.json.gz') as fin:\n",
    "    for i, line in enumerate(fin):\n",
    "        line = json.loads(line)\n",
    "        # EDGES.append(line)\n",
    "        \n",
    "        key = line['key']\n",
    "        source = line['source']\n",
    "        for target in line['targets']:\n",
    "            OUTGOING.setdefault(source, set()).add((key, target))\n",
    "            INCOMING.setdefault(target, set()).add((key, source))"
   ]
  },
  {
   "cell_type": "code",
   "execution_count": 19,
   "metadata": {},
   "outputs": [],
   "source": [
    "RNG = np.random.RandomState(42)"
   ]
  },
  {
   "cell_type": "code",
   "execution_count": 77,
   "metadata": {},
   "outputs": [],
   "source": [
    "def sample_random_paths(n=10):\n",
    "    while True:\n",
    "        e1 = RNG.randint(len(ENTITIES))\n",
    "        last_key = None\n",
    "\n",
    "        node_path = [e1]\n",
    "        edge_path = []\n",
    "        for _ in range(n):\n",
    "            incoming = list(INCOMING.get(e1, []))\n",
    "            outgoing = list(OUTGOING.get(e1, []))\n",
    "\n",
    "            if len(outgoing) + len(incoming) == 0:\n",
    "                break\n",
    "\n",
    "            for _ in range(5):\n",
    "                ei = RNG.randint(len(outgoing) + len(incoming))\n",
    "\n",
    "                if ei >= len(outgoing):\n",
    "                    ei -= len(outgoing)\n",
    "                    key, e2 = incoming[ei]\n",
    "                    inv = True\n",
    "                else:\n",
    "                    key, e2 = outgoing[ei]\n",
    "                    inv = False\n",
    "                    \n",
    "                if key == last_key:\n",
    "                    continue\n",
    "\n",
    "                node_path.append(e2)\n",
    "                edge_path.append((inv, key))\n",
    "\n",
    "                e1 = e2\n",
    "                last_key = key\n",
    "                break\n",
    "        yield node_path, edge_path\n",
    "        \n",
    "def sample_edge_paths(n=10, min_len=5):\n",
    "    for _, path in sample_random_paths(n):\n",
    "        if len(path) < min_len:\n",
    "            continue\n",
    "        \n",
    "        for i, (inv, x) in enumerate(path):\n",
    "            path[i] = ('¬' if inv else '') + KEYS[x]['name']\n",
    "        yield path\n",
    "        \n",
    "def sample_node_paths(n=20, min_len=5):\n",
    "    for path, _ in sample_random_paths(n):\n",
    "        if len(path) < min_len:\n",
    "            continue\n",
    "            \n",
    "        for i, x in enumerate(path):\n",
    "            path[i] = ENTITIES[x]['name'].replace(' ', '_')\n",
    "        yield path\n",
    "        \n",
    "def sample_infobox_paths(n=20, min_len=5):\n",
    "    for path, _ in sample_random_paths(n):\n",
    "        if len(path) < min_len:\n",
    "            continue\n",
    "            \n",
    "        for i, x in enumerate(path):\n",
    "            ibs = ENTITIES[x]['infoboxes']\n",
    "            ib = ibs[0][0]\n",
    "            path[i] = INFOBOXES[ib]['name'].replace(' ', '_')\n",
    "        yield path"
   ]
  },
  {
   "cell_type": "code",
   "execution_count": 123,
   "metadata": {},
   "outputs": [
    {
     "data": {
      "text/plain": [
       "[['uk_place',\n",
       "  'england_county_unitary',\n",
       "  'uk_place',\n",
       "  'settlement',\n",
       "  'uk_place',\n",
       "  'uk_constituency_main',\n",
       "  'uk_place',\n",
       "  'england_county_unitary',\n",
       "  'uk_school',\n",
       "  'england_county_unitary',\n",
       "  'uk_place'],\n",
       " ['person',\n",
       "  'film',\n",
       "  'programming_language',\n",
       "  'christian_leader',\n",
       "  'christian_leader',\n",
       "  'christian_leader',\n",
       "  'christian_leader',\n",
       "  'bishopric',\n",
       "  'church',\n",
       "  'musical_artist'],\n",
       " ['magic:_the_gathering_player',\n",
       "  'magic:_the_gathering_pro_tour_season',\n",
       "  'magic:_the_gathering_pro_tour_season',\n",
       "  'magic:_the_gathering_pro_tour_season',\n",
       "  'magic:_the_gathering_player',\n",
       "  'magic:_the_gathering_pro_tour_season',\n",
       "  'magic:_the_gathering_player'],\n",
       " ['german_location',\n",
       "  'german_location',\n",
       "  'german_state',\n",
       "  'district_de',\n",
       "  'german_location',\n",
       "  'german_state',\n",
       "  'road'],\n",
       " ['writer',\n",
       "  'album',\n",
       "  'comics_creator',\n",
       "  'comic_book_title',\n",
       "  'comics_creator',\n",
       "  'comics_character',\n",
       "  'company',\n",
       "  'comics_character',\n",
       "  'comics_character',\n",
       "  'comics_character',\n",
       "  'comic_book_title']]"
      ]
     },
     "execution_count": 123,
     "metadata": {},
     "output_type": "execute_result"
    }
   ],
   "source": [
    "list(itertools.islice(sample_infobox_paths(10), 5))"
   ]
  },
  {
   "cell_type": "code",
   "execution_count": 60,
   "metadata": {},
   "outputs": [],
   "source": [
    "class CustomCorpus(object):\n",
    "    def __init__(self, fname):\n",
    "        self.fname = fname\n",
    "\n",
    "    def __iter__(self):\n",
    "        with gzip.open(self.fname, 'rt') as fin:\n",
    "            for line in fin:\n",
    "                yield line.strip().split('\\t')"
   ]
  },
  {
   "cell_type": "code",
   "execution_count": 57,
   "metadata": {},
   "outputs": [],
   "source": [
    "EDGE_CORPUS_PATH = 'whad-edge-corpus.txt.gz'\n",
    "with gzip.open(EDGE_CORPUS_PATH, 'wt+') as fout:\n",
    "    for path in itertools.islice(sample_edge_paths(10), 500000):\n",
    "        print('\\t'.join(path), file=fout)"
   ]
  },
  {
   "cell_type": "code",
   "execution_count": 61,
   "metadata": {},
   "outputs": [],
   "source": [
    "from gensim.models import Word2Vec"
   ]
  },
  {
   "cell_type": "code",
   "execution_count": 63,
   "metadata": {},
   "outputs": [],
   "source": [
    "edge_model = Word2Vec(CustomCorpus(EDGE_CORPUS_PATH), size=100, window=5, min_count=1, workers=4)"
   ]
  },
  {
   "cell_type": "code",
   "execution_count": 132,
   "metadata": {},
   "outputs": [
    {
     "data": {
      "text/plain": [
       "[('¬parents', 0.9128847122192383),\n",
       " ('parents', 0.9110609292984009),\n",
       " ('¬children', 0.9068242907524109),\n",
       " ('spouse', 0.8064637184143066),\n",
       " ('¬spouse', 0.7746407985687256),\n",
       " ('¬relations', 0.7589224576950073),\n",
       " ('¬spouses', 0.758327841758728),\n",
       " ('¬relatives', 0.7512246370315552),\n",
       " ('wife', 0.7479748725891113),\n",
       " ('¬wife', 0.7445101141929626)]"
      ]
     },
     "execution_count": 132,
     "metadata": {},
     "output_type": "execute_result"
    }
   ],
   "source": [
    "edge_model.wv.most_similar('children')"
   ]
  },
  {
   "cell_type": "code",
   "execution_count": null,
   "metadata": {},
   "outputs": [],
   "source": [
    "INFOBOX_CORPUS_PATH = 'whad-infobox-corpus.txt.gz'\n",
    "with gzip.open(INFOBOX_CORPUS_PATH, 'wt+') as fout:\n",
    "    for path in itertools.islice(sample_infobox_paths(), 100000):\n",
    "        print('\\t'.join(path), file=fout)"
   ]
  },
  {
   "cell_type": "code",
   "execution_count": null,
   "metadata": {},
   "outputs": [],
   "source": [
    "infobox_model = Word2Vec(CustomCorpus(INFOBOX_CORPUS_PATH), size=100, window=5, min_count=1, workers=4)"
   ]
  },
  {
   "cell_type": "code",
   "execution_count": 141,
   "metadata": {},
   "outputs": [
    {
     "data": {
      "text/plain": [
       "[('vg_series', 0.8884174823760986),\n",
       " ('storage_medium', 0.8318207263946533),\n",
       " ('video_game_series', 0.8300854563713074),\n",
       " ('cvg_system', 0.8245033621788025),\n",
       " ('machinima', 0.8153306245803833),\n",
       " ('vg_online_service', 0.8023949861526489),\n",
       " ('e-sports_club', 0.773980975151062),\n",
       " ('computer', 0.770449697971344),\n",
       " ('vg', 0.7653200626373291),\n",
       " ('vg_character', 0.7477352023124695)]"
      ]
     },
     "execution_count": 141,
     "metadata": {},
     "output_type": "execute_result"
    }
   ],
   "source": [
    "infobox_model.wv.most_similar('video_game')"
   ]
  },
  {
   "cell_type": "code",
   "execution_count": 88,
   "metadata": {},
   "outputs": [],
   "source": [
    "NODE_CORPUS_PATH = 'whad-node-corpus.txt.gz'\n",
    "with gzip.open(NODE_CORPUS_PATH, 'at') as fout:\n",
    "    for path in itertools.islice(sample_node_paths(), 200000):\n",
    "        print('\\t'.join(path), file=fout)"
   ]
  },
  {
   "cell_type": "code",
   "execution_count": 142,
   "metadata": {},
   "outputs": [],
   "source": [
    "node_model = Word2Vec(CustomCorpus(NODE_CORPUS_PATH), size=100, window=5, min_count=1, workers=4)"
   ]
  },
  {
   "cell_type": "code",
   "execution_count": 144,
   "metadata": {},
   "outputs": [
    {
     "data": {
      "text/plain": [
       "[('Jo_Dee_Messina', 0.964158833026886),\n",
       " ('On_the_Ride', 0.9599303007125854),\n",
       " ('Automatic_for_the_People', 0.9567062854766846),\n",
       " ('Got_Me_Under_Pressure', 0.9539003968238831),\n",
       " ('Hello_Pop!', 0.9534103274345398),\n",
       " ('Two_English_Girls', 0.9527778625488281),\n",
       " ('Rail_Simulator', 0.9520115852355957),\n",
       " ('Naruto:_Ultimate_Ninja_Storm', 0.9518694877624512),\n",
       " ('Monster_Truck_Madness', 0.9511873126029968),\n",
       " ('Hook,_Line_and_Stinker', 0.9510291218757629)]"
      ]
     },
     "execution_count": 144,
     "metadata": {},
     "output_type": "execute_result"
    }
   ],
   "source": [
    "node_model.wv.most_similar('')"
   ]
  },
  {
   "cell_type": "code",
   "execution_count": null,
   "metadata": {},
   "outputs": [],
   "source": []
  }
 ],
 "metadata": {
  "kernelspec": {
   "display_name": "Python 3",
   "language": "python",
   "name": "python3"
  },
  "language_info": {
   "codemirror_mode": {
    "name": "ipython",
    "version": 3
   },
   "file_extension": ".py",
   "mimetype": "text/x-python",
   "name": "python",
   "nbconvert_exporter": "python",
   "pygments_lexer": "ipython3",
   "version": "3.7.4"
  }
 },
 "nbformat": 4,
 "nbformat_minor": 2
}
