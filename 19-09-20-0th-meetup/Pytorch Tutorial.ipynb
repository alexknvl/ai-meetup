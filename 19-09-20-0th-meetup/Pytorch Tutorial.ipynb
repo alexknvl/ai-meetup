{
 "cells": [
  {
   "cell_type": "markdown",
   "metadata": {},
   "source": [
    "# Autograd (backpropagation)"
   ]
  },
  {
   "cell_type": "code",
   "execution_count": 162,
   "metadata": {},
   "outputs": [],
   "source": [
    "import torch\n",
    "\n",
    "# Create tensors.\n",
    "x = torch.tensor(1., requires_grad=True)\n",
    "w = torch.tensor(2., requires_grad=True)\n",
    "b = torch.tensor(3., requires_grad=True)\n",
    "\n",
    "# Build a computational graph.\n",
    "y = w * x + b    # y = 2 * x + 3"
   ]
  },
  {
   "cell_type": "markdown",
   "metadata": {},
   "source": [
    "$$y = w \\cdot x + b$$"
   ]
  },
  {
   "cell_type": "code",
   "execution_count": 163,
   "metadata": {},
   "outputs": [
    {
     "name": "stdout",
     "output_type": "stream",
     "text": [
      "tensor(1.)\n",
      "tensor(2.)\n",
      "tensor(1.)\n"
     ]
    }
   ],
   "source": [
    "# Compute gradients.\n",
    "y.backward()\n",
    "\n",
    "# Print out the gradients.\n",
    "print(w.grad)    # w.grad = 1\n",
    "print(x.grad)    # x.grad = 2\n",
    "print(b.grad)    # b.grad = 1"
   ]
  },
  {
   "cell_type": "markdown",
   "metadata": {},
   "source": [
    "x = torch.tensor(1., requires_grad=True)\n",
    "w = torch.tensor(2., requires_grad=True)\n",
    "b = torch.tensor(3., requires_grad=True)\n",
    "\n",
    "$$y(w, x, b) = w * x + b$$\n",
    "\n",
    "$$\\dfrac{\\partial y}{\\partial w} = x = 1$$\n",
    "\n",
    "$$\\dfrac{\\partial y}{\\partial x} = w = 2$$\n",
    "\n",
    "$$\\dfrac{\\partial y}{\\partial b} = 1 = 1$$"
   ]
  },
  {
   "cell_type": "markdown",
   "metadata": {},
   "source": [
    "### How does that work?\n",
    "\n",
    "$$\\alpha(w, x) = w \\cdot x$$\n",
    "\n",
    "$$\\beta(\\alpha, b) = \\alpha + b$$\n",
    "\n",
    "$$y(w, x, b) = \\beta(\\alpha(w, x), b)$$\n",
    "\n",
    "---\n",
    "\n",
    "$$\\beta(\\alpha, b) = \\alpha + b$$\n",
    "\n",
    "$$\\dfrac{\\partial \\beta}{\\partial \\alpha}(\\alpha, b) = 1$$\n",
    "\n",
    "$$\\dfrac{\\partial \\beta}{\\partial b}(\\alpha, b) = 1$$\n",
    "\n",
    "---\n",
    "\n",
    "$$\\alpha(w, x) = w \\cdot x$$\n",
    "\n",
    "$$\\dfrac{\\partial \\alpha}{\\partial w}(w, x) = x$$\n",
    "\n",
    "$$\\dfrac{\\partial \\alpha}{\\partial x}(w, x) = w$$\n",
    "\n",
    "--\n",
    "\n",
    "$$y(w, x, b) = \\beta(\\alpha(w, x), b)$$\n",
    "\n",
    "$$\\dfrac{\\partial y}{\\partial w}(w, x, b) = \\dfrac{\\partial \\beta}{\\partial \\alpha}(\\alpha(w, x), b) \\cdot \\dfrac{\\partial \\alpha}{\\partial w}(w, x) = x$$\n",
    "\n",
    "So all we need to do is to follow the \"computation graph\" backwards and multiply partial derivatives. We can use the forward pass we've already done to substitute values into partial derivatives."
   ]
  },
  {
   "cell_type": "code",
   "execution_count": 173,
   "metadata": {},
   "outputs": [],
   "source": [
    "class Var:\n",
    "    def __init__(self, value):\n",
    "        self.value = value\n",
    "        self.grad = 0\n",
    "        \n",
    "    def __add__(self, that):\n",
    "        return Add(self, that)\n",
    "    \n",
    "    def __mul__(self, that):\n",
    "        return Mul(self, that)\n",
    "    \n",
    "    def backward(self, g=1):\n",
    "        self.grad += g\n",
    "\n",
    "class Add(Var):\n",
    "    def __init__(self, left, right):\n",
    "        Var.__init__(self, left.value + right.value)\n",
    "        self.left = left\n",
    "        self.right = right\n",
    "    \n",
    "    def backward(self, g=1):\n",
    "        self.grad += g\n",
    "        self.left.backward(g)\n",
    "        self.right.backward(g)\n",
    "        \n",
    "class Mul(Var):\n",
    "    def __init__(self, left, right):\n",
    "        Var.__init__(self, left.value * right.value)\n",
    "        self.left = left\n",
    "        self.right = right\n",
    "        \n",
    "    def backward(self, g=1):\n",
    "        self.grad += g\n",
    "        self.left.backward(g * self.right.value)\n",
    "        self.right.backward(g * self.left.value)"
   ]
  },
  {
   "cell_type": "code",
   "execution_count": 174,
   "metadata": {},
   "outputs": [
    {
     "name": "stdout",
     "output_type": "stream",
     "text": [
      "2 1\n",
      "1 2\n",
      "3 1\n"
     ]
    }
   ],
   "source": [
    "x = Var(1)\n",
    "w = Var(2)\n",
    "b = Var(3)\n",
    "\n",
    "y = w * x + b\n",
    "\n",
    "y.backward()\n",
    "\n",
    "print(w.value, w.grad)    # w.grad = 1\n",
    "print(x.value, x.grad)    # x.grad = 2\n",
    "print(b.value, b.grad)    # b.grad = 1"
   ]
  },
  {
   "cell_type": "code",
   "execution_count": 175,
   "metadata": {},
   "outputs": [
    {
     "name": "stdout",
     "output_type": "stream",
     "text": [
      "1 2\n"
     ]
    }
   ],
   "source": [
    "x = Var(1)\n",
    "y = x * x\n",
    "y.backward()\n",
    "\n",
    "print(x.value, x.grad)    # x.grad = 2"
   ]
  },
  {
   "cell_type": "markdown",
   "metadata": {},
   "source": [
    "# Side-note: forward mode differentiation"
   ]
  },
  {
   "cell_type": "markdown",
   "metadata": {},
   "source": [
    "$$(a + i b) \\cdot (c + i d) = (a c - b d) + i (a d + b c)$$\n",
    "$$(a + \\delta \\cdot b) \\cdot (c + \\delta \\cdot d) = (a c + \\delta^2 b d) + \\delta (a d + b c) \\approx a c + \\delta (a d + b c)$$\n",
    "$$(a + \\delta \\cdot a') \\cdot (c + \\delta \\cdot c') = a c + \\delta (a c' + a' c) = a c + \\delta (a c)'$$\n",
    "$$(a + \\delta \\cdot a') + (c + \\delta \\cdot c') = a + c + \\delta (a' + c') = a + c + \\delta (a + c)'$$\n",
    "$$f(a + \\delta \\cdot b) = f(a) + f'(a) \\delta \\cdot b$$"
   ]
  },
  {
   "cell_type": "markdown",
   "metadata": {},
   "source": [
    "$$exp(a + \\delta \\cdot b) = 1 + (a + \\delta \\cdot b) + (a + \\delta \\cdot b)^2 / 2 + \\ldots = exp(a) + \\delta \\cdot b \\cdot exp(a)$$"
   ]
  },
  {
   "cell_type": "code",
   "execution_count": 180,
   "metadata": {},
   "outputs": [
    {
     "name": "stdout",
     "output_type": "stream",
     "text": [
      "1 1\n"
     ]
    }
   ],
   "source": [
    "class Dual:\n",
    "    def __init__(self, value, grad=0):\n",
    "        self.value = value\n",
    "        self.grad = grad\n",
    "        \n",
    "    def __add__(self, that):\n",
    "        return Dual(\n",
    "            self.value + that.value, \n",
    "            self.grad  + that.grad)\n",
    "    \n",
    "    def __mul__(self, that):\n",
    "        return Dual(\n",
    "            self.value * that.value, \n",
    "            self.grad * that.value + that.grad * self.value)\n",
    "\n",
    "a = Dual(1, 0) # a(t) = a_0\n",
    "x = Dual(1, 1) # x(t) = t\n",
    "y = x * a\n",
    "print(y.value, y.grad)"
   ]
  },
  {
   "cell_type": "markdown",
   "metadata": {},
   "source": [
    "# Optimization"
   ]
  },
  {
   "cell_type": "code",
   "execution_count": 185,
   "metadata": {
    "scrolled": false
   },
   "outputs": [
    {
     "name": "stdout",
     "output_type": "stream",
     "text": [
      "\n",
      "0 6.464632034301758\n",
      "tensor(0.) tensor(-2.7996)\n",
      "tensor(0.) tensor(-4.7848)\n"
     ]
    },
    {
     "data": {
      "image/png": "[encoded data removed]",
      "text/plain": [
       "<Figure size 432x288 with 1 Axes>"
      ]
     },
     "metadata": {
      "needs_background": "light"
     },
     "output_type": "display_data"
    },
    {
     "name": "stdout",
     "output_type": "stream",
     "text": [
      "\n",
      "50 6.092432022094727\n",
      "tensor(0.0498) tensor(-2.7203)\n",
      "tensor(0.0498) tensor(-4.6376)\n",
      "\n",
      "100 5.736283779144287\n",
      "tensor(0.0990) tensor(-2.6421)\n",
      "tensor(0.0989) tensor(-4.4924)\n"
     ]
    },
    {
     "data": {
      "image/png": "[encoded data removed]",
      "text/plain": [
       "<Figure size 432x288 with 1 Axes>"
      ]
     },
     "metadata": {
      "needs_background": "light"
     },
     "output_type": "display_data"
    },
    {
     "name": "stdout",
     "output_type": "stream",
     "text": [
      "\n",
      "150 5.39630126953125\n",
      "tensor(0.1475) tensor(-2.5650)\n",
      "tensor(0.1473) tensor(-4.3495)\n",
      "\n",
      "200 5.071995735168457\n",
      "tensor(0.1953) tensor(-2.4891)\n",
      "tensor(0.1949) tensor(-4.2088)\n"
     ]
    },
    {
     "data": {
      "image/png": "[encoded data removed]",
      "text/plain": [
       "<Figure size 432x288 with 1 Axes>"
      ]
     },
     "metadata": {
      "needs_background": "light"
     },
     "output_type": "display_data"
    },
    {
     "name": "stdout",
     "output_type": "stream",
     "text": [
      "\n",
      "250 4.762879371643066\n",
      "tensor(0.2424) tensor(-2.4145)\n",
      "tensor(0.2417) tensor(-4.0703)\n",
      "\n",
      "300 4.468471527099609\n",
      "tensor(0.2887) tensor(-2.3410)\n",
      "tensor(0.2877) tensor(-3.9340)\n"
     ]
    },
    {
     "data": {
      "image/png": "[encoded data removed]",
      "text/plain": [
       "<Figure size 432x288 with 1 Axes>"
      ]
     },
     "metadata": {
      "needs_background": "light"
     },
     "output_type": "display_data"
    }
   ],
   "source": [
    "import numpy as np\n",
    "import matplotlib.pyplot as plt\n",
    "\n",
    "data_x = np.sort(np.random.uniform(size=10))\n",
    "data_y = data_x * 3.0 + 1.0 + np.random.normal(size=10) * 0.1\n",
    "\n",
    "x  = torch.tensor(data_x, requires_grad=False, dtype=torch.float)\n",
    "y0 = torch.tensor(data_y, requires_grad=False, dtype=torch.float)\n",
    "w = torch.tensor(0., requires_grad=True, dtype=torch.float)\n",
    "b = torch.tensor(0., requires_grad=True, dtype=torch.float)\n",
    "\n",
    "optimizer = torch.optim.Adam([w, b], lr=0.001)\n",
    "\n",
    "for i in range(301):\n",
    "    y = w * x + b\n",
    "    \n",
    "    # e = E[(w * x + b - y0)^2]\n",
    "    loss = torch.sum((y - y0) ** 2. / 10.0)\n",
    "    \n",
    "    # de / dw, de / db\n",
    "    loss.backward()\n",
    "    \n",
    "    p = (lambda *x: print(*x)) if i % 50 == 0 else (lambda *x: None)\n",
    "    p()\n",
    "    p(i, loss.item())\n",
    "    p(w.data, w.grad)\n",
    "    p(b.data, b.grad)\n",
    "    \n",
    "    optimizer.step()\n",
    "    w.grad.zero_()\n",
    "    b.grad.zero_()\n",
    "    \n",
    "    if i % 100 == 0:\n",
    "        plt.scatter(data_x, y0.numpy())\n",
    "        plt.scatter(data_x, y.detach().numpy())\n",
    "        plt.show()"
   ]
  },
  {
   "cell_type": "markdown",
   "metadata": {},
   "source": [
    "# Training a digit classifier"
   ]
  },
  {
   "cell_type": "code",
   "execution_count": 186,
   "metadata": {},
   "outputs": [],
   "source": [
    "import torchvision\n",
    "import torchvision.transforms as transforms\n",
    "\n",
    "# MNIST dataset (images and labels)\n",
    "train_dataset = torchvision.datasets.MNIST(\n",
    "    root='./torch_data', \n",
    "    train=True, \n",
    "    transform=transforms.ToTensor(),\n",
    "    download=True)\n",
    "\n",
    "test_dataset = torchvision.datasets.MNIST(\n",
    "    root='./torch_data', \n",
    "    train=False, \n",
    "    transform=transforms.ToTensor())\n",
    "\n",
    "batch_size = 100\n",
    "\n",
    "# Data loader (input pipeline)\n",
    "train_loader = torch.utils.data.DataLoader(\n",
    "    dataset=train_dataset, \n",
    "    batch_size=batch_size, \n",
    "    shuffle=True)\n",
    "\n",
    "test_loader = torch.utils.data.DataLoader(\n",
    "    dataset=test_dataset, \n",
    "    batch_size=batch_size, \n",
    "    shuffle=False)"
   ]
  },
  {
   "cell_type": "code",
   "execution_count": 188,
   "metadata": {},
   "outputs": [],
   "source": [
    "# next(enumerate(train_loader))"
   ]
  },
  {
   "cell_type": "code",
   "execution_count": 194,
   "metadata": {},
   "outputs": [
    {
     "name": "stdout",
     "output_type": "stream",
     "text": [
      "Epoch [1/5], Step [100/600], Loss: 0.7895\n",
      "Epoch [1/5], Step [200/600], Loss: 0.6091\n",
      "Epoch [1/5], Step [300/600], Loss: 0.6407\n",
      "Epoch [1/5], Step [400/600], Loss: 0.5279\n",
      "Epoch [1/5], Step [500/600], Loss: 0.5040\n",
      "Epoch [1/5], Step [600/600], Loss: 0.4633\n",
      "Epoch [2/5], Step [100/600], Loss: 0.5228\n",
      "Epoch [2/5], Step [200/600], Loss: 0.2882\n",
      "Epoch [2/5], Step [300/600], Loss: 0.4320\n",
      "Epoch [2/5], Step [400/600], Loss: 0.4040\n",
      "Epoch [2/5], Step [500/600], Loss: 0.3893\n",
      "Epoch [2/5], Step [600/600], Loss: 0.4665\n",
      "Epoch [3/5], Step [100/600], Loss: 0.2542\n",
      "Epoch [3/5], Step [200/600], Loss: 0.4451\n",
      "Epoch [3/5], Step [300/600], Loss: 0.2764\n",
      "Epoch [3/5], Step [400/600], Loss: 0.4899\n",
      "Epoch [3/5], Step [500/600], Loss: 0.4051\n",
      "Epoch [3/5], Step [600/600], Loss: 0.4238\n",
      "Epoch [4/5], Step [100/600], Loss: 0.3639\n",
      "Epoch [4/5], Step [200/600], Loss: 0.3514\n",
      "Epoch [4/5], Step [300/600], Loss: 0.2988\n",
      "Epoch [4/5], Step [400/600], Loss: 0.2969\n",
      "Epoch [4/5], Step [500/600], Loss: 0.3946\n",
      "Epoch [4/5], Step [600/600], Loss: 0.4262\n",
      "Epoch [5/5], Step [100/600], Loss: 0.4362\n",
      "Epoch [5/5], Step [200/600], Loss: 0.3922\n",
      "Epoch [5/5], Step [300/600], Loss: 0.4371\n",
      "Epoch [5/5], Step [400/600], Loss: 0.4266\n",
      "Epoch [5/5], Step [500/600], Loss: 0.2901\n",
      "Epoch [5/5], Step [600/600], Loss: 0.3580\n",
      "Accuracy of the model on the 10000 test images: 92 %\n"
     ]
    }
   ],
   "source": [
    "# Hyper-parameters \n",
    "input_size = 28*28\n",
    "num_classes = 10\n",
    "num_epochs = 5\n",
    "learning_rate = 0.001\n",
    "\n",
    "# Logistic regression model\n",
    "# output_j = sigmoid(b_j + w_ij * x_i)\n",
    "model = nn.Linear(input_size, num_classes)\n",
    "\n",
    "# Loss and optimizer\n",
    "# nn.CrossEntropyLoss() computes softmax internally\n",
    "# p(output=i | x) = exp(x_i) / (sum_j exp(x_j))\n",
    "criterion = nn.CrossEntropyLoss()\n",
    "optimizer = torch.optim.Adam(model.parameters(), lr=learning_rate)\n",
    "\n",
    "# Train the model\n",
    "total_step = len(train_loader)\n",
    "for epoch in range(num_epochs):\n",
    "    for i, (images, labels) in enumerate(train_loader):\n",
    "        # Reshape images to (batch_size, input_size)\n",
    "        images = images.reshape(-1, 28*28)\n",
    "        \n",
    "        # Forward pass\n",
    "        outputs = model(images)\n",
    "        loss = criterion(outputs, labels) + 1 * torch.sum(model.weight.abs()) / input_size / num_classes\n",
    "        \n",
    "        # Backward and optimize\n",
    "        optimizer.zero_grad()\n",
    "        loss.backward()\n",
    "        optimizer.step()\n",
    "        \n",
    "        if (i+1) % 100 == 0:\n",
    "            print ('Epoch [{}/{}], Step [{}/{}], Loss: {:.4f}' \n",
    "                   .format(epoch+1, num_epochs, i+1, total_step, loss.item()))\n",
    "\n",
    "# Test the model\n",
    "# In test phase, we don't need to compute gradients (for memory efficiency)\n",
    "with torch.no_grad():\n",
    "    correct = 0\n",
    "    total = 0\n",
    "    for images, labels in test_loader:\n",
    "        images = images.reshape(-1, 28*28)\n",
    "        outputs = model(images)\n",
    "        _, predicted = torch.max(outputs.data, 1)\n",
    "        total += labels.size(0)\n",
    "        correct += (predicted == labels).sum()\n",
    "\n",
    "    print('Accuracy of the model on the 10000 test images: {} %'.format(100 * correct / total))"
   ]
  },
  {
   "cell_type": "code",
   "execution_count": 198,
   "metadata": {},
   "outputs": [
    {
     "data": {
      "text/plain": [
       "<matplotlib.image.AxesImage at 0x12a38c850>"
      ]
     },
     "execution_count": 198,
     "metadata": {},
     "output_type": "execute_result"
    },
    {
     "data": {
      "image/png": "[encoded data removed]",
      "text/plain": [
       "<Figure size 432x288 with 1 Axes>"
      ]
     },
     "metadata": {
      "needs_background": "light"
     },
     "output_type": "display_data"
    }
   ],
   "source": [
    "plt.imshow(model.weight[1].reshape((28, 28)).detach().numpy())"
   ]
  },
  {
   "cell_type": "code",
   "execution_count": null,
   "metadata": {},
   "outputs": [],
   "source": []
  }
 ],
 "metadata": {
  "kernelspec": {
   "display_name": "Python 3",
   "language": "python",
   "name": "python3"
  },
  "language_info": {
   "codemirror_mode": {
    "name": "ipython",
    "version": 3
   },
   "file_extension": ".py",
   "mimetype": "text/x-python",
   "name": "python",
   "nbconvert_exporter": "python",
   "pygments_lexer": "ipython3",
   "version": "3.7.4"
  }
 },
 "nbformat": 4,
 "nbformat_minor": 2
}
